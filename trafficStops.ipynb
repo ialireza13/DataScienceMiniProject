{
 "cells": [
  {
   "cell_type": "markdown",
   "metadata": {},
   "source": [
    "## Solution to the second question of the Data Science Mini Project \n",
    "\n",
    "#### Alireza Hashemi, March 30th"
   ]
  },
  {
   "cell_type": "code",
   "execution_count": 1,
   "metadata": {},
   "outputs": [],
   "source": [
    "import pandas as pd\n",
    "import numpy as np\n",
    "import warnings\n",
    "warnings.filterwarnings('ignore')"
   ]
  },
  {
   "cell_type": "markdown",
   "metadata": {},
   "source": [
    "#### Load dataframes"
   ]
  },
  {
   "cell_type": "code",
   "execution_count": 2,
   "metadata": {},
   "outputs": [],
   "source": [
    "MT = pd.read_csv(\"MT_cleaned.csv\",low_memory=False)\n",
    "VT = pd.read_csv(\"VT_cleaned.csv\",low_memory=False)"
   ]
  },
  {
   "cell_type": "markdown",
   "metadata": {},
   "source": [
    "#### Q1) The proportion of traffic stops in MT involving male drivers"
   ]
  },
  {
   "cell_type": "code",
   "execution_count": 4,
   "metadata": {},
   "outputs": [
    {
     "name": "stdout",
     "output_type": "stream",
     "text": [
      "The proportion of traffic stops in MT involving male drivers: 0.6749749732765495\n"
     ]
    }
   ],
   "source": [
    "male_prop = MT.driver_gender.value_counts()['M']/len(MT.index)\n",
    "print(\"The proportion of traffic stops in MT involving male drivers: \"+str(male_prop))"
   ]
  },
  {
   "cell_type": "markdown",
   "metadata": {},
   "source": [
    "#### Q2) Factor increase in a traffic stop arrest likelihood in MT from OOS plates"
   ]
  },
  {
   "cell_type": "code",
   "execution_count": 5,
   "metadata": {},
   "outputs": [
    {
     "name": "stdout",
     "output_type": "stream",
     "text": [
      "1.2095129351452942\n"
     ]
    }
   ],
   "source": [
    "oos_arrested = len(MT[MT.out_of_state==True][MT.is_arrested==True].index)\n",
    "oos_total = len(MT[MT.out_of_state==True].index)\n",
    "oos_arrest_ratio = oos_arrested/oos_total\n",
    "\n",
    "is_arrested = len(MT[MT.out_of_state==False][MT.is_arrested==True].index)\n",
    "is_total = len(MT[MT.out_of_state==False].index)\n",
    "is_arrest_ratio =  is_arrested/is_total\n",
    "factor_oos = oos_arrest_ratio/is_arrest_ratio\n",
    "print(factor_oos)"
   ]
  },
  {
   "cell_type": "markdown",
   "metadata": {},
   "source": [
    "#### Q2) a. Chi-Squared traffic stop arrest test statistic\n",
    "(You should run the previous cell first)"
   ]
  },
  {
   "cell_type": "code",
   "execution_count": 6,
   "metadata": {},
   "outputs": [
    {
     "data": {
      "text/plain": [
       "0.04389566999319627"
      ]
     },
     "execution_count": 6,
     "metadata": {},
     "output_type": "execute_result"
    }
   ],
   "source": [
    "from scipy.stats import chisquare\n",
    "chisquare(f_obs=[1, factor_oos], f_exp=[1,1]).statistic"
   ]
  },
  {
   "cell_type": "markdown",
   "metadata": {},
   "source": [
    "#### Q3) The proportion of traffic stops in MT involving speeding violations"
   ]
  },
  {
   "cell_type": "code",
   "execution_count": 8,
   "metadata": {},
   "outputs": [
    {
     "name": "stdout",
     "output_type": "stream",
     "text": [
      "The proportion of traffic stops in MT involving speeding violations: 0.6581580398644923\n"
     ]
    }
   ],
   "source": [
    "speed_prop = MT.violation.str.contains(\"Speed\").sum()/len(MT[MT.violation.notna()].index)\n",
    "print(\"The proportion of traffic stops in MT involving speeding violations: \"+ str(speed_prop))"
   ]
  },
  {
   "cell_type": "markdown",
   "metadata": {},
   "source": [
    "#### Q4) Factor increase in traffic stop DUI likelihood in MT over VT:"
   ]
  },
  {
   "cell_type": "code",
   "execution_count": 9,
   "metadata": {},
   "outputs": [
    {
     "name": "stdout",
     "output_type": "stream",
     "text": [
      "4.054943765214862\n"
     ]
    }
   ],
   "source": [
    "MT_DUI_likelihood = MT.violation.str.contains(\"DUI\").sum() / len(MT[MT.violation.notna()].index)\n",
    "VT_DUI_likelihood = VT.violation.str.contains(\"DUI\").sum() / len(VT[VT.violation.notna()].index)\n",
    "DUI_ratio = MT_DUI_likelihood / VT_DUI_likelihood\n",
    "print(DUI_ratio)"
   ]
  },
  {
   "cell_type": "markdown",
   "metadata": {},
   "source": [
    "#### Q5) The average manufacture year of vehicles stopped in MT in 2020"
   ]
  },
  {
   "cell_type": "code",
   "execution_count": 11,
   "metadata": {},
   "outputs": [
    {
     "name": "stdout",
     "output_type": "stream",
     "text": [
      "The predicted average manufacture year of vehicles stopped in MT in 2020: 2008.8431659593393\n",
      "P-value of linear regression: 5.609148253703464e-08\n"
     ]
    }
   ],
   "source": [
    "stops_with_year = MT[['stop_date', 'vehicle_year']]\n",
    "stops_with_year.vehicle_year = pd.to_numeric(stops_with_year.vehicle_year, errors='coerce')\n",
    "stops_with_year = stops_with_year[stops_with_year.vehicle_year.notna()]\n",
    "stops_with_year.stop_date = pd.to_datetime(stops_with_year.stop_date, errors='coerce').dt.year\n",
    "stops_with_year = stops_with_year[stops_with_year.stop_date.notna()]\n",
    "\n",
    "years = stops_with_year.stop_date.unique()\n",
    "avgs = [np.mean(stops_with_year[stops_with_year.stop_date==year].vehicle_year.values) for year in years]\n",
    "errors = [np.std(stops_with_year[stops_with_year.stop_date==year].vehicle_year.values)/2 for year in years]\n",
    "\n",
    "from scipy import stats\n",
    "\n",
    "slope, intercept, r_value, p_value, std_err = stats.linregress(years, avgs)\n",
    "\n",
    "querry = 2020\n",
    "print(\"The predicted average manufacture year of vehicles stopped in MT in 2020: \"+str(slope*2020+intercept))\n",
    "print(\"P-value of linear regression: \"+str(p_value))"
   ]
  },
  {
   "cell_type": "markdown",
   "metadata": {},
   "source": [
    "A bit of visualization, can be skipped:"
   ]
  },
  {
   "cell_type": "code",
   "execution_count": 12,
   "metadata": {},
   "outputs": [
    {
     "data": {
      "image/png": "[encoded data removed]",
      "text/plain": [
       "<Figure size 432x288 with 1 Axes>"
      ]
     },
     "metadata": {
      "needs_background": "light"
     },
     "output_type": "display_data"
    }
   ],
   "source": [
    "import matplotlib.pyplot as plt\n",
    "\n",
    "plt.scatter(years, avgs, c='blue')\n",
    "plt.errorbar(years,avgs, errors, fmt='none')\n",
    "plt.plot(years, slope*years+intercept, c='red')\n",
    "plt.xlabel(\"Stop year\")\n",
    "plt.ylabel(\"Average vehicle man. year\");"
   ]
  },
  {
   "cell_type": "markdown",
   "metadata": {},
   "source": [
    "#### Q6) The difference in the total number of stops that occurred between min and max hours in both MT and VT:"
   ]
  },
  {
   "cell_type": "code",
   "execution_count": 13,
   "metadata": {},
   "outputs": [
    {
     "name": "stdout",
     "output_type": "stream",
     "text": [
      "The difference in the total number of stops that occurred between min and max hours in both MT: 75478\n",
      "The difference in the total number of stops that occurred between min and max hours in both MT: 26052\n"
     ]
    }
   ],
   "source": [
    "stops_with_time = MT.stop_time[MT.stop_time.notna()].values\n",
    "MT_hours = np.array([int(stop[:2]) for stop in stops_with_time])\n",
    "stops_with_time = VT.stop_time[VT.stop_time.notna()].values\n",
    "VT_hours = np.array([int(stop[:2]) for stop in stops_with_time])\n",
    "\n",
    "MT_hours, MT_n_stops = np.unique(MT_hours, return_counts=True)\n",
    "VT_hours, VT_n_stops = np.unique(VT_hours, return_counts=True)\n",
    "\n",
    "print(\"The difference in the total number of stops that occurred between min and max hours in both MT: \"+str(np.max(MT_n_stops)-np.min(MT_n_stops)))\n",
    "print(\"The difference in the total number of stops that occurred between min and max hours in both MT: \"+str(np.max(VT_n_stops)-np.min(VT_n_stops)))"
   ]
  },
  {
   "cell_type": "markdown",
   "metadata": {},
   "source": [
    "A bit of visualization, can be skipped:"
   ]
  },
  {
   "cell_type": "code",
   "execution_count": 15,
   "metadata": {},
   "outputs": [
    {
     "data": {
      "image/png": "[encoded data removed]",
      "text/plain": [
       "<Figure size 432x288 with 1 Axes>"
      ]
     },
     "metadata": {
      "needs_background": "light"
     },
     "output_type": "display_data"
    }
   ],
   "source": [
    "import matplotlib.pyplot as plt\n",
    "\n",
    "plt.scatter(MT_hours, MT_n_stops, label='MT')\n",
    "plt.scatter(VT_hours, VT_n_stops, label='VT')\n",
    "plt.xlabel(\"Hour of the day\")\n",
    "plt.ylabel(\"Number of stops\")\n",
    "plt.legend();"
   ]
  },
  {
   "cell_type": "markdown",
   "metadata": {},
   "source": [
    "#### Q7) The area in sq. km of the largest county in MT "
   ]
  },
  {
   "cell_type": "markdown",
   "metadata": {},
   "source": [
    "The provided dataset does not contain enough information for this value to be determined and I am going to explain why different approaches would fail:"
   ]
  },
  {
   "cell_type": "markdown",
   "metadata": {},
   "source": [
    "1) One may think we can calculate this based on the number of stops in each county. This is not true because we should keep in mind the Bayesian inference. The counties do not necesserily have the same amount of roads, drivers, police officers and we can not say if the violation frequency is the same in all counties. (Tried and got wrong results)"
   ]
  },
  {
   "cell_type": "markdown",
   "metadata": {},
   "source": [
    "2) One way might be to find the county which has the most difference in longitude and latitude values. This doesn't work either because different counties do not have homogenous road distribution. (Tried and got wrong results)"
   ]
  },
  {
   "cell_type": "markdown",
   "metadata": {},
   "source": [
    "3) Another way would be to import geographical libraries or use Google or Wikipedia libraries to search for this value online. Which I do not think passes the sanity check."
   ]
  }
 ],
 "metadata": {
  "kernelspec": {
   "display_name": "Python 3",
   "language": "python",
   "name": "python3"
  },
  "language_info": {
   "codemirror_mode": {
    "name": "ipython",
    "version": 3
   },
   "file_extension": ".py",
   "mimetype": "text/x-python",
   "name": "python",
   "nbconvert_exporter": "python",
   "pygments_lexer": "ipython3",
   "version": "3.8.2"
  }
 },
 "nbformat": 4,
 "nbformat_minor": 4
}
