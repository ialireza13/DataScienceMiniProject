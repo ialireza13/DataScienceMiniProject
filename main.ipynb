{
 "cells": [
  {
   "cell_type": "markdown",
   "metadata": {},
   "source": [
    "### Import functions"
   ]
  },
  {
   "cell_type": "code",
   "execution_count": 1,
   "metadata": {},
   "outputs": [],
   "source": [
    "from deckCalculation.Calculate import calculate, conditionalProb\n",
    "ens = 100000\n",
    "#  ens is the number of ensembles for each calculation.\n",
    "#  The higher it is, the more accurate the results and the longer the runtime."
   ]
  },
  {
   "cell_type": "markdown",
   "metadata": {},
   "source": [
    "### Calculate mean and STD for given N and M"
   ]
  },
  {
   "cell_type": "code",
   "execution_count": 2,
   "metadata": {},
   "outputs": [
    {
     "name": "stdin",
     "output_type": "stream",
     "text": [
      "Enter total number of cards in a deck:  52\n",
      "Enter number of decks:  4\n"
     ]
    },
    {
     "name": "stdout",
     "output_type": "stream",
     "text": [
      "Mean of P:\t12.00865\n",
      "STD of P:\t3.0368001543565555\n"
     ]
    }
   ],
   "source": [
    "results = calculate(ens)\n",
    "print(\"Mean of P:\\t\"+str(results[0]))\n",
    "print(\"STD of P:\\t\"+str(results[1]))"
   ]
  },
  {
   "cell_type": "markdown",
   "metadata": {},
   "source": [
    "### Calculate the conditional probability for given P1 and P2"
   ]
  },
  {
   "cell_type": "markdown",
   "metadata": {},
   "source": [
    "P = P(p>P_high and p>P_low) / P(p>P_low)"
   ]
  },
  {
   "cell_type": "code",
   "execution_count": 3,
   "metadata": {},
   "outputs": [
    {
     "name": "stdin",
     "output_type": "stream",
     "text": [
      "Enter total number of cards in a deck:  52\n",
      "Enter number of decks:  4\n",
      "Enter the low condition for p (p>x):  6\n",
      "Enter the high condition for p (p>x):  12\n"
     ]
    },
    {
     "name": "stdout",
     "output_type": "stream",
     "text": [
      "conditional probability that P>12 given that it's P>6:\t0.43705\n"
     ]
    }
   ],
   "source": [
    "cond = conditionalProb(ens)\n",
    "print(\"conditional probability that P>\"+str(cond[2])+\" given that it's P>\"+str(cond[1])+\":\\t\"+str(cond[0]))"
   ]
  },
  {
   "cell_type": "code",
   "execution_count": null,
   "metadata": {},
   "outputs": [],
   "source": []
  }
 ],
 "metadata": {
  "kernelspec": {
   "display_name": "Python 3",
   "language": "python",
   "name": "python3"
  },
  "language_info": {
   "codemirror_mode": {
    "name": "ipython",
    "version": 3
   },
   "file_extension": ".py",
   "mimetype": "text/x-python",
   "name": "python",
   "nbconvert_exporter": "python",
   "pygments_lexer": "ipython3",
   "version": "3.8.2"
  }
 },
 "nbformat": 4,
 "nbformat_minor": 4
}
